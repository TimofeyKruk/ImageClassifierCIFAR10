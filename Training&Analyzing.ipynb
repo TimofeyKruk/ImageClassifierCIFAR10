{
  "cells": [
    {
      "cell_type": "markdown",
      "source": "## Analyzing the learning and performance of a model",
      "metadata": {
        "pycharm": {
          "metadata": false,
          "name": "#%% md\n"
        }
      }
    },
    {
      "cell_type": "code",
      "execution_count": 1,
      "outputs": [
        {
          "name": "stdout",
          "text": [
            "5\n"
          ],
          "output_type": "stream"
        }
      ],
      "source": "import matplotlib.pyplot as plt\nimport numpy as np\nprint(5)",
      "metadata": {
        "pycharm": {
          "metadata": false,
          "name": "#%%\n",
          "is_executing": false
        }
      }
    },
    {
      "cell_type": "code",
      "execution_count": 13,
      "outputs": [
        {
          "data": {
            "text/plain": "\u003cFigure size 432x288 with 1 Axes\u003e",
            "image/png": "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\u003d\u003d\n"
          },
          "metadata": {
            "needs_background": "light"
          },
          "output_type": "display_data"
        }
      ],
      "source": "a\u003dnp.random.randn(2000)\nplt.hist(5*a+15,bins\u003d200)\nplt.show()",
      "metadata": {
        "pycharm": {
          "metadata": false,
          "name": "#%%\n",
          "is_executing": false
        }
      }
    },
    {
      "cell_type": "code",
      "execution_count": 2,
      "outputs": [
        {
          "name": "stdout",
          "text": [
            "[\u0027airplane\u0027, \u0027automobile\u0027, \u0027bird\u0027, \u0027cat\u0027, \u0027deer\u0027, \u0027dog\u0027, \u0027frog\u0027, \u0027horse\u0027, \u0027ship\u0027, \u0027truck\u0027]",
            "\n"
          ],
          "output_type": "stream"
        }
      ],
      "source": "from data_preparation import downloadData, loadData\n\ntrain, test \u003d downloadData(download\u003dFalse)\ntrain_l, test_l \u003d loadData(train, test)\nclasses_names\u003dtrain_l.dataset.classes\nprint(classes_names)",
      "metadata": {
        "pycharm": {
          "metadata": false,
          "name": "#%%\n",
          "is_executing": false
        }
      }
    },
    {
      "cell_type": "code",
      "execution_count": 3,
      "outputs": [],
      "source": "train_iter\u003diter(train_l)\ntest_iter\u003diter(test_l)",
      "metadata": {
        "pycharm": {
          "metadata": false,
          "name": "#%%\n",
          "is_executing": false
        }
      }
    },
    {
      "cell_type": "markdown",
      "source": "#### Looking at some images",
      "metadata": {
        "pycharm": {
          "metadata": false
        }
      }
    },
    {
      "cell_type": "code",
      "execution_count": 18,
      "outputs": [],
      "source": "import torchvision\nimport matplotlib.pyplot as plt\nimport numpy as np\n\ndef show_image():\n    images, labels \u003d train_iter.next()\n    images\u003dtorchvision.utils.make_grid(images[:4])\n    images\u003dimages/2+0.5\n    npimages\u003dimages.numpy()\n    \n    plt.figure(figsize\u003d(7,5))\n    plt.imshow(np.transpose(npimages,(1,2,0)))\n    plt.show()\n    print(\u0027 \u0027.join(\u0027%5s\u0027 % classes_names[labels[j]] for j in range(4)))",
      "metadata": {
        "pycharm": {
          "metadata": false,
          "name": "#%%\n",
          "is_executing": false
        }
      }
    },
    {
      "cell_type": "code",
      "execution_count": 19,
      "outputs": [
        {
          "data": {
            "text/plain": "\u003cFigure size 504x360 with 1 Axes\u003e",
            "image/png": "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\u003d\u003d\n"
          },
          "metadata": {
            "needs_background": "light"
          },
          "output_type": "display_data"
        },
        {
          "name": "stdout",
          "text": [
            "truck  ship automobile automobile",
            "\n"
          ],
          "output_type": "stream"
        }
      ],
      "source": "show_image()\n\n",
      "metadata": {
        "pycharm": {
          "metadata": false,
          "name": "#%%\n",
          "is_executing": false
        }
      }
    }
  ],
  "metadata": {
    "language_info": {
      "codemirror_mode": {
        "name": "ipython",
        "version": 2
      },
      "file_extension": ".py",
      "mimetype": "text/x-python",
      "name": "python",
      "nbconvert_exporter": "python",
      "pygments_lexer": "ipython2",
      "version": "2.7.6"
    },
    "kernelspec": {
      "name": "python3",
      "language": "python",
      "display_name": "Python 3"
    },
    "stem_cell": {
      "cell_type": "raw",
      "source": "",
      "metadata": {
        "pycharm": {
          "metadata": false
        }
      }
    }
  },
  "nbformat": 4,
  "nbformat_minor": 0
}